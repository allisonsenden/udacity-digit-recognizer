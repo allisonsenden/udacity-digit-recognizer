{
 "cells": [
  {
   "cell_type": "markdown",
   "metadata": {},
   "source": [
    "## Read in the Data & First Glance"
   ]
  },
  {
   "cell_type": "code",
   "execution_count": 30,
   "metadata": {},
   "outputs": [
    {
     "name": "stdout",
     "output_type": "stream",
     "text": [
      "(60000, 28, 28)\n",
      "(60000,)\n",
      "(10000, 28, 28)\n",
      "(10000,)\n"
     ]
    }
   ],
   "source": [
    "import time\n",
    "import pandas as pd\n",
    "import numpy as np\n",
    "import matplotlib.pyplot as plt\n",
    "#import seaborn as sns\n",
    "from sklearn.model_selection import train_test_split\n",
    "from sklearn.svm import SVC\n",
    "from sklearn.metrics import classification_report, confusion_matrix\n",
    "from keras.utils import to_categorical\n",
    "from keras.datasets import mnist\n",
    "from sklearn.neighbors import KNeighborsClassifier\n",
    "\n",
    "\n",
    "# Importing data from Kaggle competition\n",
    "data = pd.read_csv('digit-recognizer/train.csv')\n",
    "# test = pd.read_csv('digit-recognizer/test.csv')\n",
    "# print(data.shape)\n",
    "\n",
    "\n",
    "# Importing data from keras\n",
    "# Resource: https://keras.io/datasets/#mnist-database-of-handwritten-digits\n",
    "(X_train, y_train), (X_test, y_test) = mnist.load_data()\n",
    "print(X_train.shape)\n",
    "print(y_train.shape)\n",
    "print(X_test.shape)\n",
    "print(y_test.shape)"
   ]
  },
  {
   "cell_type": "code",
   "execution_count": null,
   "metadata": {},
   "outputs": [],
   "source": []
  },
  {
   "cell_type": "code",
   "execution_count": null,
   "metadata": {},
   "outputs": [],
   "source": [
    "# can change directory, if you want\n",
    "data_dir = 'plagiarism_data'\n",
    "\n",
    "\"\"\"\n",
    "DON'T MODIFY ANYTHING IN THIS CELL THAT IS BELOW THIS LINE\n",
    "\"\"\"\n",
    "\n",
    "make_csv(train_x, train_y, filename='train.csv', data_dir=data_dir)\n",
    "make_csv(test_x, test_y, filename='test.csv', data_dir=data_dir)"
   ]
  },
  {
   "cell_type": "markdown",
   "metadata": {},
   "source": [
    "After I read in the data I realized that since this is a Kaggle competition, the test set doesn't have any labels to be able to verify the accuracy that our model performed on. We need the label to verify what the model predicted to what the actual label should be classified as. So instead of using the MNIST dataset provided on the Kaggle site, I will download the dataset from keras itself. They have it available in their datasets for importing right into the notebook. "
   ]
  },
  {
   "cell_type": "code",
   "execution_count": 27,
   "metadata": {
    "scrolled": true
   },
   "outputs": [
    {
     "data": {
      "image/png": "[encoded data removed]",
      "text/plain": [
       "<Figure size 432x288 with 9 Axes>"
      ]
     },
     "metadata": {
      "needs_background": "light"
     },
     "output_type": "display_data"
    }
   ],
   "source": [
    "# Let's view a couple images\n",
    "for i in range(0, 9):\n",
    "    plt.subplot(330 + (i+1))\n",
    "    plt.imshow(X_train[i].reshape(28, 28), cmap=plt.get_cmap('gray'))\n",
    "    plt.title(y_train[i])"
   ]
  },
  {
   "cell_type": "markdown",
   "metadata": {},
   "source": [
    "## Preprocess the Data"
   ]
  },
  {
   "cell_type": "markdown",
   "metadata": {},
   "source": [
    "Preprocess the data so that the model can better intake the images for prediction. We will need to one-hot encode the labels and normalize the images a bit. "
   ]
  },
  {
   "cell_type": "code",
   "execution_count": 19,
   "metadata": {},
   "outputs": [],
   "source": [
    "# One-hot encode the label since there are 10 categories (aka- numbers 0 thru 10)\n",
    "y_train = to_categorical(y_train)\n",
    "y_test = to_categorical(y_test)"
   ]
  },
  {
   "cell_type": "code",
   "execution_count": 20,
   "metadata": {},
   "outputs": [
    {
     "name": "stdout",
     "output_type": "stream",
     "text": [
      "(60000, 28, 28)\n",
      "(10000, 28, 28)\n"
     ]
    }
   ],
   "source": [
    "# reshape to account for dimensionality and have single channel\n",
    "X_train.reshape(X_train.shape[0], 28, 28, 1)\n",
    "X_test.reshape(X_test.shape[0], 28, 28, 1)\n",
    "print(X_train.shape)\n",
    "print(X_test.shape)"
   ]
  },
  {
   "cell_type": "code",
   "execution_count": 21,
   "metadata": {},
   "outputs": [],
   "source": [
    "# Convert data accordingly\n",
    "X_train = X_train.astype('float')\n",
    "y_train = y_train.astype('int')\n",
    "X_test = X_test.astype('float')\n",
    "y_test = y_test.astype('int')"
   ]
  },
  {
   "cell_type": "code",
   "execution_count": 31,
   "metadata": {},
   "outputs": [
    {
     "name": "stdout",
     "output_type": "stream",
     "text": [
      "(60000, 784)\n",
      "(10000, 784)\n"
     ]
    }
   ],
   "source": [
    "# Convert 3D data into 2D dataset\n",
    "# Resource: https://stackoverflow.com/questions/34972142/sklearn-logistic-regression-valueerror-found-array-with-dim-3-estimator-expec\n",
    "nsamples, nx, ny = X_train.shape\n",
    "X_train_lowdim = X_train.reshape((nsamples,nx*ny))\n",
    "print(X_train_lowdim.shape)\n",
    "\n",
    "nsamples, nx, ny = X_test.shape\n",
    "X_test_lowdim = X_test.reshape((nsamples,nx*ny))\n",
    "print(X_test_lowdim.shape)"
   ]
  },
  {
   "cell_type": "markdown",
   "metadata": {},
   "source": [
    "## Benchmark Model"
   ]
  },
  {
   "cell_type": "markdown",
   "metadata": {},
   "source": [
    "I will need to transform the data into a lower dimension in order to run the SVC model against the data. It requires intaking 2D data instead of the reshaped 3D data to account for the pixel size of (28, 28). "
   ]
  },
  {
   "cell_type": "code",
   "execution_count": 40,
   "metadata": {},
   "outputs": [
    {
     "name": "stderr",
     "output_type": "stream",
     "text": [
      "/anaconda3/lib/python3.7/site-packages/sklearn/svm/base.py:193: FutureWarning: The default value of gamma will change from 'auto' to 'scale' in version 0.22 to account better for unscaled features. Set gamma explicitly to 'auto' or 'scale' to avoid this warning.\n",
      "  \"avoid this warning.\", FutureWarning)\n"
     ]
    },
    {
     "name": "stdout",
     "output_type": "stream",
     "text": [
      "Accuracy for SVC model  rows: 0.1135\n",
      "--- 14130.29 seconds ---\n"
     ]
    }
   ],
   "source": [
    "# Benchmark how SVC performs on greyscale images\n",
    "%%time\n",
    "\n",
    "start_time = time.time()\n",
    "\n",
    "svc_model = SVC(random_state=42)\n",
    "svc_model.fit(X_train_lowdim, y_train.ravel())\n",
    "score = svc_model.score(X_test_lowdim, y_test)\n",
    "\n",
    "print(\"Accuracy for SVC model  rows: %s\" % score)\n",
    "print(\"--- %s seconds ---\" % round((time.time() - start_time), 2))"
   ]
  },
  {
   "cell_type": "markdown",
   "metadata": {},
   "source": [
    "Ok, so this model didn't perform that well, but at least we have a benchmark point that we can aim to improve upon when creating our model from scratch. We will next try to apply the k-nearest neighbors algorithm to achieve better performance."
   ]
  },
  {
   "cell_type": "markdown",
   "metadata": {},
   "source": [
    "## Defining the Model"
   ]
  },
  {
   "cell_type": "markdown",
   "metadata": {},
   "source": [
    "Now it's time to create a model to compete against the benchmark model. I'm going to try to apply a k-nearest neighbor model to better predict the classification of the digit images. But first we need to figure out the optimal k-value."
   ]
  },
  {
   "cell_type": "code",
   "execution_count": 32,
   "metadata": {},
   "outputs": [
    {
     "name": "stdout",
     "output_type": "stream",
     "text": [
      "(60000, 784)\n",
      "(60000,)\n"
     ]
    }
   ],
   "source": [
    "print(X_train_lowdim.shape)\n",
    "print(y_train.shape)"
   ]
  },
  {
   "cell_type": "code",
   "execution_count": 33,
   "metadata": {},
   "outputs": [
    {
     "name": "stdout",
     "output_type": "stream",
     "text": [
      "(54000, 784)\n",
      "(54000,)\n",
      "(6000, 784)\n",
      "(6000,)\n"
     ]
    }
   ],
   "source": [
    "# Split data further so that we have a validation set \n",
    "Xval_train, Xval_test, yval_train, y_val_test = train_test_split(X_train_lowdim, y_train, test_size=0.1, random_state=45)\n",
    "print(Xval_train.shape)\n",
    "print(yval_train.shape)\n",
    "print(Xval_test.shape)\n",
    "print(y_val_test.shape)"
   ]
  },
  {
   "cell_type": "code",
   "execution_count": 35,
   "metadata": {},
   "outputs": [
    {
     "name": "stdout",
     "output_type": "stream",
     "text": [
      "k=1, accuracy=97.32%\n",
      "k=3, accuracy=97.27%\n",
      "k=5, accuracy=97.12%\n",
      "k=7, accuracy=96.93%\n",
      "k=9, accuracy=96.70%\n",
      "k=11, accuracy=96.58%\n",
      "k=13, accuracy=96.48%\n",
      "k=15, accuracy=96.33%\n",
      "k=17, accuracy=96.17%\n",
      "k=19, accuracy=96.07%\n",
      "k=21, accuracy=95.97%\n",
      "k=23, accuracy=95.73%\n",
      "k=25, accuracy=95.77%\n",
      "k=27, accuracy=95.65%\n",
      "k=29, accuracy=95.52%\n",
      "k=1 achieved highest accuracy of 97.32% on validation data\n"
     ]
    }
   ],
   "source": [
    "# initialize the values of k for our k-Nearest Neighbor classifier along with the\n",
    "# list of accuracies for each value of k\n",
    "kVals = range(1, 30, 2)\n",
    "accuracies = []\n",
    "\n",
    "# loop over kVals\n",
    "for k in kVals:\n",
    "    # train the classifier with the current value of `k`\n",
    "    model = KNeighborsClassifier(n_neighbors=k)\n",
    "    model.fit(Xval_train, yval_train)\n",
    "\n",
    "    # evaluate the model and print the accuracies list\n",
    "    score = model.score(Xval_test, y_val_test)\n",
    "    print(\"k=%d, accuracy=%.2f%%\" % (k, score * 100))\n",
    "    accuracies.append(score)\n",
    "\n",
    "# largest accuracy\n",
    "# np.argmax returns the indices of the maximum values along an axis\n",
    "i = np.argmax(accuracies)\n",
    "print(\"k=%d achieved highest accuracy of %.2f%% on validation data\" % (kVals[i],\n",
    "    accuracies[i] * 100))"
   ]
  },
  {
   "cell_type": "code",
   "execution_count": 38,
   "metadata": {},
   "outputs": [
    {
     "name": "stdout",
     "output_type": "stream",
     "text": [
      "EVALUATION ON TESTING DATA\n",
      "              precision    recall  f1-score   support\n",
      "\n",
      "           0       0.98      0.99      0.99       980\n",
      "           1       0.97      0.99      0.98      1135\n",
      "           2       0.98      0.96      0.97      1032\n",
      "           3       0.96      0.96      0.96      1010\n",
      "           4       0.97      0.96      0.97       982\n",
      "           5       0.95      0.96      0.96       892\n",
      "           6       0.98      0.99      0.98       958\n",
      "           7       0.96      0.96      0.96      1028\n",
      "           8       0.98      0.94      0.96       974\n",
      "           9       0.96      0.96      0.96      1009\n",
      "\n",
      "    accuracy                           0.97     10000\n",
      "   macro avg       0.97      0.97      0.97     10000\n",
      "weighted avg       0.97      0.97      0.97     10000\n",
      "\n"
     ]
    }
   ],
   "source": [
    "model = KNeighborsClassifier(n_neighbors=kVals[i])\n",
    "model.fit(X_train_lowdim, y_train)\n",
    "\n",
    "# Predict labels for the test set\n",
    "predictions = model.predict(X_test_lowdim)\n",
    "\n",
    "# Evaluate performance of model for each of the digits\n",
    "print(\"EVALUATION OF TESTING DATA:\")\n",
    "print(classification_report(y_test, predictions))"
   ]
  },
  {
   "cell_type": "markdown",
   "metadata": {},
   "source": [
    "I'm extremely surprised that the k-value that was most optimal ended up being k=1, but I'm very happy with the results. Overall, the model was able to perform great for accuracy for all classes. As a bonus, we were able to get good recall on all the classes too which means the model has more coverage over the cases of images it encounters. Essentially, accuracy points to the number of times the model can accurately classify a number, but within that number, the recall tells the number of cases it's accurately able to cover. "
   ]
  },
  {
   "cell_type": "code",
   "execution_count": null,
   "metadata": {},
   "outputs": [],
   "source": []
  }
 ],
 "metadata": {
  "kernelspec": {
   "display_name": "Python 3",
   "language": "python",
   "name": "python3"
  },
  "language_info": {
   "codemirror_mode": {
    "name": "ipython",
    "version": 3
   },
   "file_extension": ".py",
   "mimetype": "text/x-python",
   "name": "python",
   "nbconvert_exporter": "python",
   "pygments_lexer": "ipython3",
   "version": "3.7.1"
  }
 },
 "nbformat": 4,
 "nbformat_minor": 2
}
